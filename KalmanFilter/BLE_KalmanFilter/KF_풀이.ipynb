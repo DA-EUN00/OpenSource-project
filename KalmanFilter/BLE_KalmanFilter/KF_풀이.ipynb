{
 "cells": [
  {
   "cell_type": "code",
   "execution_count": 1,
   "id": "9b16ce42",
   "metadata": {},
   "outputs": [],
   "source": [
    "import numpy as np\n",
    "import matplotlib.pyplot as plt\n",
    "from numpy.linalg import inv\n",
    "from scipy import io"
   ]
  },
  {
   "cell_type": "code",
   "execution_count": 2,
   "id": "31720440",
   "metadata": {},
   "outputs": [
    {
     "ename": "NameError",
     "evalue": "name 'io' is not defined",
     "output_type": "error",
     "traceback": [
      "\u001b[1;31m---------------------------------------------------------------------------\u001b[0m",
      "\u001b[1;31mNameError\u001b[0m                                 Traceback (most recent call last)",
      "\u001b[1;32m~\\AppData\\Local\\Temp/ipykernel_12328/3584989812.py\u001b[0m in \u001b[0;36m<module>\u001b[1;34m\u001b[0m\n\u001b[0;32m      1\u001b[0m \u001b[0mnp\u001b[0m\u001b[1;33m.\u001b[0m\u001b[0mrandom\u001b[0m\u001b[1;33m.\u001b[0m\u001b[0mseed\u001b[0m\u001b[1;33m(\u001b[0m\u001b[1;36m0\u001b[0m\u001b[1;33m)\u001b[0m\u001b[1;33m\u001b[0m\u001b[1;33m\u001b[0m\u001b[0m\n\u001b[1;32m----> 2\u001b[1;33m \u001b[0minput_mat\u001b[0m \u001b[1;33m=\u001b[0m \u001b[0mio\u001b[0m\u001b[1;33m.\u001b[0m\u001b[0mloadmat\u001b[0m\u001b[1;33m(\u001b[0m\u001b[1;34m'data/SonarAlt.mat'\u001b[0m\u001b[1;33m)\u001b[0m\u001b[1;33m\u001b[0m\u001b[1;33m\u001b[0m\u001b[0m\n\u001b[0m",
      "\u001b[1;31mNameError\u001b[0m: name 'io' is not defined"
     ]
    }
   ],
   "source": [
    "# 난수 생성을 위한 seed 값 설정\n",
    "np.random.seed(0)\n",
    "# data 파일 읽기\n",
    "input_mat = io.loadmat('data/SonarAlt.mat')"
   ]
  },
  {
   "cell_type": "code",
   "execution_count": 3,
   "id": "2a005835",
   "metadata": {},
   "outputs": [],
   "source": [
    "# 분석할 값만 배열로 저장\n",
    "def get_sonar(i):\n",
    "    \"\"\"Measure sonar.\"\"\"\n",
    "    z = input_mat['sonarAlt'][0][i]  # input_mat['sonaralt']: (1, 1501)\n",
    "    return z"
   ]
  },
  {
   "cell_type": "code",
   "execution_count": null,
   "id": "d7c43d45",
   "metadata": {},
   "outputs": [],
   "source": [
    "def kalman_filter(z_meas, x_esti, P):\n",
    "    \"\"\"Kalman Filter Algorithm.\"\"\"\n",
    "    \"\"\"칼만필터 알고리즘 (매개변수: 측정값, 추정값, 오차공분산)\"\"\"\n",
    "    \n",
    "    # (1) Prediction.\n",
    "    \"\"\"x와 P의 계산\n",
    "    Input: 직전추정값과 오차공분산\n",
    "    OutputL 예측값 \"\"\"\n",
    "    x_pred = A @ x_esti\n",
    "    P_pred = A @ P @ A.T + Q \n",
    "\n",
    "    # (2) Kalman Gain.\n",
    "    \"\"\"Kalman Gain 계산 \n",
    "        P는 (1)에서 계산\n",
    "        H와 R은 미리 설정된 값\n",
    "    \"\"\"\n",
    "    K = P_pred @ H.T @ inv(H @ P_pred @ H.T + R)\n",
    "\n",
    "    # (3) Estimation.\n",
    "    \"\"\"입력된 측정값으로 추정값 계산\n",
    "        X_pred는 (1)에서 계산\"\"\"\n",
    "    x_esti = x_pred + K @ (z_meas - H @ x_pred)\n",
    "\n",
    "    # (4) Error Covariance.\n",
    "    \"\"\"오차공분산 구하기\n",
    "        앞에서 계산한 추정값을 사용할지 말지를 결정\"\"\"\n",
    "    P = P_pred - K @ H @ P_pred\n",
    "\n",
    "    #  추정값과 오차공분산\n",
    "    return x_esti, P "
   ]
  },
  {
   "cell_type": "code",
   "execution_count": null,
   "id": "fe83a9e9",
   "metadata": {},
   "outputs": [],
   "source": [
    "# Input parameters.\n",
    "n_samples = 500\n",
    "time_end = 10"
   ]
  },
  {
   "cell_type": "code",
   "execution_count": null,
   "id": "8364fe55",
   "metadata": {},
   "outputs": [],
   "source": [
    "# Initialization for system model.\n",
    "# Matrix: A, H, Q, R, P_0\n",
    "# Vector: x_0\n",
    "dt = time_end / n_samples\n",
    "\"\"\"시스템 모델: A, H, Q, R\n",
    "    칼만필터를 사용하는 목적에 따라 사용자가 정함\"\"\"\n",
    "A = np.array([[1, dt],\n",
    "              [0, 1]])\n",
    "H = np.array([[1, 0]])\n",
    "Q = np.array([[1, 0],\n",
    "              [0, 3]])\n",
    "R = np.array([[10]])\n"
   ]
  },
  {
   "cell_type": "code",
   "execution_count": null,
   "id": "62f15307",
   "metadata": {},
   "outputs": [],
   "source": [
    "\n",
    "# (0) Initialization for estimation.\n",
    "x_0 = np.array([0, 20])  # position and velocity\n",
    "P_0 = 5 * np.eye(2)\n",
    "time = np.arange(0, time_end, dt)\n",
    "z_pos_meas_save = np.zeros(n_samples)\n",
    "x_pos_esti_save = np.zeros(n_samples)\n",
    "x_vel_esti_save = np.zeros(n_samples)\n",
    "x_esti, P = None, None"
   ]
  },
  {
   "cell_type": "code",
   "execution_count": null,
   "id": "37cf20ee",
   "metadata": {},
   "outputs": [],
   "source": [
    "for i in range(n_samples):\n",
    "    z_meas = get_sonar(i)\n",
    "    if i == 0:\n",
    "        x_esti, P = x_0, P_0\n",
    "    else:\n",
    "        x_esti, P = kalman_filter(z_meas, x_esti, P)\n",
    "\n",
    "    z_pos_meas_save[i] = z_meas\n",
    "    x_pos_esti_save[i] = x_esti[0]\n",
    "    x_vel_esti_save[i] = x_esti[1]"
   ]
  },
  {
   "cell_type": "code",
   "execution_count": null,
   "id": "efd227e6",
   "metadata": {},
   "outputs": [],
   "source": [
    "fig, ax1 = plt.subplots(figsize=(10, 5))\n",
    "plt.plot(time, z_pos_meas_save, 'r*--', label='Position: Measurements')\n",
    "plt.plot(time, x_pos_esti_save, 'b-', label='Position: Estimation (KF)')\n",
    "plt.legend(loc='upper left')\n",
    "plt.title('Position and Velocity')\n",
    "plt.xlabel('Time [sec]')\n",
    "plt.ylabel('Position [m]')"
   ]
  },
  {
   "cell_type": "code",
   "execution_count": null,
   "id": "9073ba04",
   "metadata": {},
   "outputs": [],
   "source": [
    "ax2 = ax1.twinx()\n",
    "plt.plot(time, x_vel_esti_save, 'go-', label='Velocity: Estimation (KF)')\n",
    "plt.legend(loc='upper right')\n",
    "plt.ylabel('Velocity [m/s]')\n",
    "plt.grid(True)\n",
    "plt.savefig('png/sonar_pos2vel_kf.png')"
   ]
  }
 ],
 "metadata": {
  "kernelspec": {
   "display_name": "Python 3 (ipykernel)",
   "language": "python",
   "name": "python3"
  },
  "language_info": {
   "codemirror_mode": {
    "name": "ipython",
    "version": 3
   },
   "file_extension": ".py",
   "mimetype": "text/x-python",
   "name": "python",
   "nbconvert_exporter": "python",
   "pygments_lexer": "ipython3",
   "version": "3.9.7"
  }
 },
 "nbformat": 4,
 "nbformat_minor": 5
}
