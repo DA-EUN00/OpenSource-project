{
 "cells": [
  {
   "cell_type": "code",
   "execution_count": null,
   "id": "73d666ae",
   "metadata": {},
   "outputs": [],
   "source": [
    "Beacon_dataset_by_C_H_LAM.csv"
   ]
  },
  {
   "cell_type": "code",
   "execution_count": 9,
   "id": "cf4ab21c",
   "metadata": {},
   "outputs": [],
   "source": [
    "import numpy as np\n",
    "import matplotlib.pyplot as plt\n",
    "from numpy.linalg import inv\n",
    "from scipy import io\n",
    "import csv\n",
    "import pandas as pd"
   ]
  },
  {
   "cell_type": "code",
   "execution_count": 10,
   "id": "a883fedd",
   "metadata": {},
   "outputs": [
    {
     "name": "stderr",
     "output_type": "stream",
     "text": [
      "C:\\Users\\ekdms\\anaconda3\\lib\\site-packages\\IPython\\core\\interactiveshell.py:3441: DtypeWarning: Columns (10,11) have mixed types.Specify dtype option on import or set low_memory=False.\n",
      "  exec(code_obj, self.user_global_ns, self.user_ns)\n"
     ]
    }
   ],
   "source": [
    "np.random.seed(0)\n",
    "#input_mat = io.loadmat('Beacon_dataset_by_C_H_LAM.csv')\n",
    "input_csv =pd.read_csv('Beacon_dataset_by_C_H_LAM.csv')"
   ]
  },
  {
   "cell_type": "code",
   "execution_count": 13,
   "id": "9c5205c1",
   "metadata": {},
   "outputs": [
    {
     "data": {
      "text/plain": [
       "<bound method NDFrame.head of        device brand device model device OS  RSS  distance Tx Power  \\\n",
       "0             Apple     iPhone 6       iOS  -43       0.0   -12dBm   \n",
       "1             Apple     iPhone 6       iOS  -44       0.0   -12dBm   \n",
       "2             Apple     iPhone 6       iOS  -44       0.0   -12dBm   \n",
       "3             Apple     iPhone 6       iOS  -44       0.0   -12dBm   \n",
       "4             Apple     iPhone 6       iOS  -44       0.0   -12dBm   \n",
       "...             ...          ...       ...  ...       ...      ...   \n",
       "207169         ASUS    Zenfone 2   Android  -52      11.0     0dBm   \n",
       "207170         ASUS    Zenfone 2   Android  -48      11.0     0dBm   \n",
       "207171         ASUS    Zenfone 2   Android  -49      11.0     0dBm   \n",
       "207172         ASUS    Zenfone 2   Android  -49      11.0     0dBm   \n",
       "207173         ASUS    Zenfone 2   Android  -62      11.0     0dBm   \n",
       "\n",
       "       Adv. Interval    Envir_new Environment  Beacon Type  \\\n",
       "0              100ms  open_indoor      Indoor  CyPhy white   \n",
       "1              100ms  open_indoor      Indoor  CyPhy white   \n",
       "2              100ms  open_indoor      Indoor  CyPhy white   \n",
       "3              100ms  open_indoor      Indoor  CyPhy white   \n",
       "4              100ms  open_indoor      Indoor  CyPhy white   \n",
       "...              ...          ...         ...          ...   \n",
       "207169         100ms     corridor      Indoor  CyPhy black   \n",
       "207170         100ms     corridor      Indoor  CyPhy black   \n",
       "207171         100ms     corridor      Indoor  CyPhy black   \n",
       "207172         100ms     corridor      Indoor  CyPhy black   \n",
       "207173         100ms     corridor      Indoor  CyPhy black   \n",
       "\n",
       "                        Timestamp Remarks  \n",
       "0       2018-08-17 10:05:08 +0000     NaN  \n",
       "1       2018-08-17 10:05:09 +0000     NaN  \n",
       "2       2018-08-17 10:05:10 +0000     NaN  \n",
       "3       2018-08-17 10:05:11 +0000     NaN  \n",
       "4       2018-08-17 10:05:12 +0000     NaN  \n",
       "...                           ...     ...  \n",
       "207169                        NaN     NaN  \n",
       "207170                        NaN     NaN  \n",
       "207171                        NaN     NaN  \n",
       "207172                        NaN     NaN  \n",
       "207173                        NaN     NaN  \n",
       "\n",
       "[207174 rows x 12 columns]>"
      ]
     },
     "execution_count": 13,
     "metadata": {},
     "output_type": "execute_result"
    }
   ],
   "source": [
    "type(input_mat)\n"
   ]
  },
  {
   "cell_type": "code",
   "execution_count": null,
   "id": "f14f63d2",
   "metadata": {},
   "outputs": [],
   "source": [
    "def get_sonar(i):\n",
    "    \"\"\"Measure sonar.\"\"\"\n",
    "    z = input_mat['sonarAlt'][0][i]  # input_mat['sonaralt']: (1, 1501)\n",
    "    return z"
   ]
  },
  {
   "cell_type": "code",
   "execution_count": 14,
   "id": "7ba94648",
   "metadata": {},
   "outputs": [
    {
     "ename": "NameError",
     "evalue": "name 'get_sonar' is not defined",
     "output_type": "error",
     "traceback": [
      "\u001b[1;31m---------------------------------------------------------------------------\u001b[0m",
      "\u001b[1;31mNameError\u001b[0m                                 Traceback (most recent call last)",
      "\u001b[1;32m<ipython-input-14-5370d0551fff>\u001b[0m in \u001b[0;36m<module>\u001b[1;34m\u001b[0m\n\u001b[0;32m     41\u001b[0m \u001b[1;33m\u001b[0m\u001b[0m\n\u001b[0;32m     42\u001b[0m \u001b[1;32mfor\u001b[0m \u001b[0mi\u001b[0m \u001b[1;32min\u001b[0m \u001b[0mrange\u001b[0m\u001b[1;33m(\u001b[0m\u001b[0mn_samples\u001b[0m\u001b[1;33m)\u001b[0m\u001b[1;33m:\u001b[0m\u001b[1;33m\u001b[0m\u001b[1;33m\u001b[0m\u001b[0m\n\u001b[1;32m---> 43\u001b[1;33m     \u001b[0mz_meas\u001b[0m \u001b[1;33m=\u001b[0m \u001b[0mget_sonar\u001b[0m\u001b[1;33m(\u001b[0m\u001b[0mi\u001b[0m\u001b[1;33m)\u001b[0m\u001b[1;33m\u001b[0m\u001b[1;33m\u001b[0m\u001b[0m\n\u001b[0m\u001b[0;32m     44\u001b[0m     \u001b[1;32mif\u001b[0m \u001b[0mi\u001b[0m \u001b[1;33m==\u001b[0m \u001b[1;36m0\u001b[0m\u001b[1;33m:\u001b[0m\u001b[1;33m\u001b[0m\u001b[1;33m\u001b[0m\u001b[0m\n\u001b[0;32m     45\u001b[0m         \u001b[0mx_esti\u001b[0m\u001b[1;33m,\u001b[0m \u001b[0mP\u001b[0m \u001b[1;33m=\u001b[0m \u001b[0mx_0\u001b[0m\u001b[1;33m,\u001b[0m \u001b[0mP_0\u001b[0m\u001b[1;33m\u001b[0m\u001b[1;33m\u001b[0m\u001b[0m\n",
      "\u001b[1;31mNameError\u001b[0m: name 'get_sonar' is not defined"
     ]
    }
   ],
   "source": [
    "def kalman_filter(z_meas, x_esti, P):\n",
    "    \"\"\"Kalman Filter Algorithm.\"\"\"\n",
    "    # (1) Prediction.\n",
    "    x_pred = A @ x_esti\n",
    "    P_pred = A @ P @ A.T + Q\n",
    "\n",
    "    # (2) Kalman Gain.\n",
    "    K = P_pred @ H.T @ inv(H @ P_pred @ H.T + R)\n",
    "\n",
    "    # (3) Estimation.\n",
    "    x_esti = x_pred + K @ (z_meas - H @ x_pred)\n",
    "\n",
    "    # (4) Error Covariance.\n",
    "    P = P_pred - K @ H @ P_pred\n",
    "\n",
    "    return x_esti, P\n",
    "\n",
    "# Input parameters.\n",
    "n_samples = 500\n",
    "time_end = 10\n",
    "\n",
    "# Initialization for system model.\n",
    "# Matrix: A, H, Q, R, P_0\n",
    "# Vector: x_0\n",
    "dt = time_end / n_samples\n",
    "A = np.array([[1, dt],\n",
    "              [0, 1]])\n",
    "H = np.array([[1, 0]])\n",
    "Q = np.array([[1, 0],\n",
    "              [0, 3]])\n",
    "R = np.array([[10]])\n",
    "\n",
    "# Initialization for estimation.\n",
    "x_0 = np.array([0, 20])  # position and velocity\n",
    "P_0 = 5 * np.eye(2)\n",
    "time = np.arange(0, time_end, dt)\n",
    "z_pos_meas_save = np.zeros(n_samples)\n",
    "x_pos_esti_save = np.zeros(n_samples)\n",
    "x_vel_esti_save = np.zeros(n_samples)\n",
    "x_esti, P = None, None\n",
    "\n",
    "for i in range(n_samples):\n",
    "    z_meas = get_sonar(i)\n",
    "    if i == 0:\n",
    "        x_esti, P = x_0, P_0\n",
    "    else:\n",
    "        x_esti, P = kalman_filter(z_meas, x_esti, P)\n",
    "\n",
    "    z_pos_meas_save[i] = z_meas\n",
    "    x_pos_esti_save[i] = x_esti[0]\n",
    "    x_vel_esti_save[i] = x_esti[1]\n",
    "    \n",
    "fig, ax1 = plt.subplots(figsize=(10, 5))\n",
    "plt.plot(time, z_pos_meas_save, 'r*--', label='Position: Measurements')\n",
    "plt.plot(time, x_pos_esti_save, 'b-', label='Position: Estimation (KF)')\n",
    "plt.legend(loc='upper left')\n",
    "plt.title('Position and Velocity')\n",
    "plt.xlabel('Time [sec]')\n",
    "plt.ylabel('Position [m]')\n",
    "\n",
    "ax2 = ax1.twinx()\n",
    "plt.plot(time, x_vel_esti_save, 'go-', label='Velocity: Estimation (KF)')\n",
    "plt.legend(loc='upper right')\n",
    "plt.ylabel('Velocity [m/s]')\n",
    "plt.grid(True)\n",
    "plt.savefig('png/sonar_pos2vel_kf.png')"
   ]
  }
 ],
 "metadata": {
  "kernelspec": {
   "display_name": "Python 3",
   "language": "python",
   "name": "python3"
  },
  "language_info": {
   "codemirror_mode": {
    "name": "ipython",
    "version": 3
   },
   "file_extension": ".py",
   "mimetype": "text/x-python",
   "name": "python",
   "nbconvert_exporter": "python",
   "pygments_lexer": "ipython3",
   "version": "3.8.11"
  }
 },
 "nbformat": 4,
 "nbformat_minor": 5
}
