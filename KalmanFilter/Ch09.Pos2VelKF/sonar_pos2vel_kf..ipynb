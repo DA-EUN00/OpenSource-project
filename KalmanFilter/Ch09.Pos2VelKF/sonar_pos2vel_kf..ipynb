{
 "cells": [
  {
   "cell_type": "code",
   "execution_count": 1,
   "id": "86b64041",
   "metadata": {},
   "outputs": [],
   "source": [
    "import numpy as np\n",
    "import matplotlib.pyplot as plt\n",
    "from numpy.linalg import inv\n",
    "from scipy import io\n",
    "\n",
    "np.random.seed(0)\n",
    "input_mat = io.loadmat('data/SonarAlt.mat')\n",
    "\n",
    "def get_sonar(i):\n",
    "    \"\"\"Measure sonar.\"\"\"\n",
    "    z = input_mat['sonarAlt'][0][i]  # input_mat['sonaralt']: (1, 1501)\n",
    "    return z\n",
    "\n",
    "def kalman_filter(z_meas, x_esti, P):\n",
    "    \"\"\"Kalman Filter Algorithm.\"\"\"\n",
    "    # (1) Prediction.\n",
    "    x_pred = A @ x_esti\n",
    "    P_pred = A @ P @ A.T + Q\n",
    "\n",
    "    # (2) Kalman Gain.\n",
    "    K = P_pred @ H.T @ inv(H @ P_pred @ H.T + R)\n",
    "\n",
    "    # (3) Estimation.\n",
    "    x_esti = x_pred + K @ (z_meas - H @ x_pred)\n",
    "\n",
    "    # (4) Error Covariance.\n",
    "    P = P_pred - K @ H @ P_pred\n",
    "\n",
    "    return x_esti, P\n",
    "\n",
    "# Input parameters.\n",
    "n_samples = 500\n",
    "time_end = 10\n",
    "\n",
    "# Initialization for system model.\n",
    "# Matrix: A, H, Q, R, P_0\n",
    "# Vector: x_0\n",
    "dt = time_end / n_samples\n",
    "A = np.array([[1, dt],\n",
    "              [0, 1]])\n",
    "H = np.array([[1, 0]])\n",
    "Q = np.array([[1, 0],\n",
    "              [0, 3]])\n",
    "R = np.array([[10]])\n",
    "\n",
    "# Initialization for estimation.\n",
    "x_0 = np.array([0, 20])  # position and velocity\n",
    "P_0 = 5 * np.eye(2)\n",
    "time = np.arange(0, time_end, dt)\n",
    "z_pos_meas_save = np.zeros(n_samples)\n",
    "x_pos_esti_save = np.zeros(n_samples)\n",
    "x_vel_esti_save = np.zeros(n_samples)\n",
    "x_esti, P = None, None\n",
    "\n",
    "for i in range(n_samples):\n",
    "    z_meas = get_sonar(i)\n",
    "    if i == 0:\n",
    "        x_esti, P = x_0, P_0\n",
    "    else:\n",
    "        x_esti, P = kalman_filter(z_meas, x_esti, P)\n",
    "\n",
    "    z_pos_meas_save[i] = z_meas\n",
    "    x_pos_esti_save[i] = x_esti[0]\n",
    "    x_vel_esti_save[i] = x_esti[1]\n",
    "    \n",
    "fig, ax1 = plt.subplots(figsize=(10, 5))\n",
    "plt.plot(time, z_pos_meas_save, 'r*--', label='Position: Measurements')\n",
    "plt.plot(time, x_pos_esti_save, 'b-', label='Position: Estimation (KF)')\n",
    "plt.legend(loc='upper left')\n",
    "plt.title('Position and Velocity')\n",
    "plt.xlabel('Time [sec]')\n",
    "plt.ylabel('Position [m]')\n",
    "\n",
    "ax2 = ax1.twinx()\n",
    "plt.plot(time, x_vel_esti_save, 'go-', label='Velocity: Estimation (KF)')\n",
    "plt.legend(loc='upper right')\n",
    "plt.ylabel('Velocity [m/s]')\n",
    "plt.grid(True)\n",
    "plt.savefig('png/sonar_pos2vel_kf.png')"
   ]
  },
  {
   "cell_type": "code",
   "execution_count": 2,
   "id": "44b53351",
   "metadata": {},
   "outputs": [
    {
     "name": "stdout",
     "output_type": "stream",
     "text": [
      "{'__header__': b'MATLAB 5.0 MAT-file, Platform: PCWIN, Created on: Thu Feb 25 13:19:03 2010', '__version__': '1.0', '__globals__': [], 'sonarAlt': array([[34.25491256, 33.60223519, 33.60223519, ..., 36.55540305,\n",
      "        36.55540305, 36.55540305]])}\n"
     ]
    }
   ],
   "source": [
    "print(input_mat)"
   ]
  },
  {
   "cell_type": "code",
   "execution_count": 3,
   "id": "06de7c51",
   "metadata": {},
   "outputs": [
    {
     "name": "stdout",
     "output_type": "stream",
     "text": [
      "<class 'dict'>\n"
     ]
    }
   ],
   "source": [
    "print(type(input_mat))"
   ]
  }
 ],
 "metadata": {
  "kernelspec": {
   "display_name": "Python 3",
   "language": "python",
   "name": "python3"
  },
  "language_info": {
   "codemirror_mode": {
    "name": "ipython",
    "version": 3
   },
   "file_extension": ".py",
   "mimetype": "text/x-python",
   "name": "python",
   "nbconvert_exporter": "python",
   "pygments_lexer": "ipython3",
   "version": "3.8.11"
  }
 },
 "nbformat": 4,
 "nbformat_minor": 5
}
